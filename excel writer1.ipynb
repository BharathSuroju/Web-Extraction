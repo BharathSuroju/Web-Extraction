{
 "cells": [
  {
   "cell_type": "code",
   "execution_count": null,
   "metadata": {},
   "outputs": [],
   "source": [
    "import os, glob,xlwt\n",
    "\n",
    "list_of_files = glob.glob('/bharath/5731/pos/*.txt') \n",
    "S = open('file.txt',mode = 'w')\n",
    "for file in list_of_files:\n",
    "    L = open(file,'r')\n",
    "    for line in L:\n",
    "        S.write(line)\n",
    "L.close()\n",
    "S.close()"
   ]
  },
  {
   "cell_type": "code",
   "execution_count": null,
   "metadata": {},
   "outputs": [],
   "source": [
    "import xlsxwriter\n",
    "from xlsxwriter import Workbook\n",
    "import os, glob,xlwt\n",
    "wbk = Workbook('pos_reviews.xlsx')\n",
    "sheet = wbk.add_worksheet('data')\n",
    "import os, glob,xlwt\n",
    "row = 0\n",
    "r=''\n",
    "list_of_files = glob.glob('/bharath/5731/pos/*.txt') \n",
    "for file in list_of_files:\n",
    "    L = open(file,'r')\n",
    "    for line in L:\n",
    "        r = r + ' '+ line\n",
    "    sheet.write(row,0,r)\n",
    "    row+=1\n",
    "    r=''\n",
    "wbk.close()"
   ]
  },
  {
   "cell_type": "code",
   "execution_count": null,
   "metadata": {},
   "outputs": [],
   "source": [
    "import xlsxwriter\n",
    "from xlsxwriter import Workbook\n",
    "import os, glob,xlwt\n",
    "wbk = Workbook('neg_reviews.xlsx')\n",
    "sheet = wbk.add_worksheet('data')\n",
    "import os, glob,xlwt\n",
    "row = 0\n",
    "r=''\n",
    "list_of_files = glob.glob('/bharath/5731/neg/*.txt') \n",
    "for file in list_of_files:\n",
    "    L = open(file,'r')\n",
    "    for line in L:\n",
    "        r = r + ' '+ line\n",
    "    sheet.write(row,0,r)\n",
    "    row+=1\n",
    "    r=''\n",
    "wbk.close()"
   ]
  }
 ],
 "metadata": {
  "kernelspec": {
   "display_name": "Python 3",
   "language": "python",
   "name": "python3"
  },
  "language_info": {
   "codemirror_mode": {
    "name": "ipython",
    "version": 3
   },
   "file_extension": ".py",
   "mimetype": "text/x-python",
   "name": "python",
   "nbconvert_exporter": "python",
   "pygments_lexer": "ipython3",
   "version": "3.7.1"
  }
 },
 "nbformat": 4,
 "nbformat_minor": 2
}
